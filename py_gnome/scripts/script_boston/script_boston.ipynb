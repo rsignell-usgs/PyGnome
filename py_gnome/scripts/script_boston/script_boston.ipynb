{
 "cells": [
  {
   "cell_type": "markdown",
   "metadata": {},
   "source": [
    "# Run Boston Harbor test case\n",
    "using py_gnome"
   ]
  },
  {
   "cell_type": "code",
   "execution_count": 2,
   "metadata": {
    "collapsed": true
   },
   "outputs": [],
   "source": [
    "\"\"\"\n",
    "a simple script to run GNOME\n",
    "\n",
    "This one uses:\n",
    "\n",
    "  - the GeoProjection\n",
    "  - wind mover\n",
    "  - random mover\n",
    "  - cats shio mover\n",
    "  - cats ossm mover\n",
    "  - plain cats mover\n",
    "\"\"\"\n",
    "\n",
    "import os\n",
    "from datetime import datetime, timedelta\n",
    "\n",
    "import numpy as np\n",
    "\n",
    "from gnome import scripting\n",
    "from gnome.basic_types import datetime_value_2d\n",
    "\n",
    "from gnome.utilities.projections import GeoProjection\n",
    "from gnome.utilities.remote_data import get_datafile\n",
    "\n",
    "from gnome.environment import Wind, Tide\n",
    "from gnome.map import MapFromBNA\n",
    "\n",
    "from gnome.model import Model\n",
    "from gnome.spill import point_line_release_spill\n",
    "from gnome.movers import RandomMover, WindMover, CatsMover, ComponentMover\n",
    "\n",
    "\n",
    "from gnome.outputters import Renderer\n",
    "from gnome.outputters import NetCDFOutput"
   ]
  },
  {
   "cell_type": "code",
   "execution_count": 3,
   "metadata": {
    "collapsed": true
   },
   "outputs": [],
   "source": [
    "# define base directory\n",
    "\n",
    "#base_dir = os.path.dirname(__file__)\n",
    "base_dir = os.getcwd()"
   ]
  },
  {
   "cell_type": "code",
   "execution_count": 4,
   "metadata": {
    "collapsed": false
   },
   "outputs": [
    {
     "name": "stderr",
     "output_type": "stream",
     "text": [
      "MassBayMap.bna:        0% |                        | ETA:  --:--:--   0.00  B/s\r",
      "MassBayMap.bna:      100% |#########################| Time: 0:00:00 848.81 kB/s\r"
     ]
    },
    {
     "name": "stdout",
     "output_type": "stream",
     "text": [
      "images_dir is: C:\\users\\rsignell\\documents\\github\\PyGnome\\py_gnome\\scripts\\script_boston\\images\n",
      "creating the maps\n"
     ]
    },
    {
     "name": "stderr",
     "output_type": "stream",
     "text": [
      "\n",
      "EbbTides.cur:      100% |###########################| Time: 0:00:00   1.39 MB/s\n"
     ]
    },
    {
     "name": "stdout",
     "output_type": "stream",
     "text": [
      "initializing the model\n",
      "adding outputters\n",
      "adding a RandomMover:\n",
      "adding a wind mover:\n",
      "adding a cats shio mover:\n",
      "adding a cats ossm mover:"
     ]
    },
    {
     "name": "stderr",
     "output_type": "stream",
     "text": [
      "EbbTidesShio.txt:      100% |#######################| Time: 0:00:00 270.00 kB/s\n",
      "MerrimackMassCoast.cur:      100% |#################| Time: 0:00:00   1.44 MB/s\n"
     ]
    },
    {
     "name": "stdout",
     "output_type": "stream",
     "text": [
      "\n",
      "adding a cats mover:"
     ]
    },
    {
     "name": "stderr",
     "output_type": "stream",
     "text": [
      "MerrimackMassCoastOSSM.txt:      100% |#############| Time: 0:00:00   4.57 MB/s\r\n",
      "MassBaySewage.cur:        0% |                     | ETA:  --:--:--   0.00  B/s\r"
     ]
    },
    {
     "name": "stdout",
     "output_type": "stream",
     "text": [
      "\n",
      "adding a component mover:"
     ]
    },
    {
     "name": "stderr",
     "output_type": "stream",
     "text": [
      "MassBaySewage.cur:      100% |######################| Time: 0:00:00   1.48 MB/s\n",
      "WAC10msNW.cur:      100% |##########################| Time: 0:00:00   1.44 MB/s\n"
     ]
    },
    {
     "name": "stdout",
     "output_type": "stream",
     "text": [
      "\n",
      "adding a spill\n"
     ]
    },
    {
     "name": "stderr",
     "output_type": "stream",
     "text": [
      "WAC10msSW.cur:      100% |##########################| Time: 0:00:00   1.39 MB/s\r\n"
     ]
    }
   ],
   "source": [
    "def make_model(images_dir=os.path.join(base_dir, 'images')):\n",
    "\n",
    "    # create the maps:\n",
    "\n",
    "    print 'creating the maps'\n",
    "    mapfile = get_datafile(os.path.join(base_dir, './MassBayMap.bna'))\n",
    "    gnome_map = MapFromBNA(mapfile, refloat_halflife=1)  # hours\n",
    "\n",
    "    renderer = Renderer(mapfile, images_dir, size=(800, 800),\n",
    "                        projection_class=GeoProjection)\n",
    "\n",
    "    print 'initializing the model'\n",
    "    start_time = datetime(2013, 3, 12, 10, 0)\n",
    "\n",
    "    # 15 minutes in seconds\n",
    "    # Default to now, rounded to the nearest hour\n",
    "    model = Model(time_step=900, start_time=start_time,\n",
    "                  duration=timedelta(days=1),\n",
    "                  map=gnome_map, uncertain=False)\n",
    "\n",
    "    print 'adding outputters'\n",
    "    model.outputters += renderer\n",
    "\n",
    "    netcdf_file = os.path.join(base_dir, 'script_boston.nc')\n",
    "    scripting.remove_netcdf(netcdf_file)\n",
    "    model.outputters += NetCDFOutput(netcdf_file, which_data='all')\n",
    "\n",
    "    print 'adding a RandomMover:'\n",
    "    model.movers += RandomMover(diffusion_coef=100000)\n",
    "\n",
    "    print 'adding a wind mover:'\n",
    "\n",
    "    series = np.zeros((2, ), dtype=datetime_value_2d)\n",
    "    series[0] = (start_time, (5, 180))\n",
    "    series[1] = (start_time + timedelta(hours=18), (5, 180))\n",
    "\n",
    "    w_mover = WindMover(Wind(timeseries=series, units='m/s'))\n",
    "    model.movers += w_mover\n",
    "    model.environment += w_mover.wind\n",
    "\n",
    "    print 'adding a cats shio mover:'\n",
    "\n",
    "    curr_file = get_datafile(os.path.join(base_dir, r\"./EbbTides.cur\"))\n",
    "    tide_file = get_datafile(os.path.join(base_dir, r\"./EbbTidesShio.txt\"))\n",
    "\n",
    "    c_mover = CatsMover(curr_file, tide=Tide(tide_file))\n",
    "\n",
    "    # this is the value in the file (default)\n",
    "    c_mover.scale_refpoint = (-70.8875, 42.321333)\n",
    "    c_mover.scale = True\n",
    "    c_mover.scale_value = -1\n",
    "\n",
    "    model.movers += c_mover\n",
    "\n",
    "    # TODO: cannot add this till environment base class is created\n",
    "    model.environment += c_mover.tide\n",
    "\n",
    "    print 'adding a cats ossm mover:'\n",
    "\n",
    "    # ossm_file = get_datafile(os.path.join(base_dir,\n",
    "    #                          r\"./MerrimackMassCoastOSSM.txt\"))\n",
    "    curr_file = get_datafile(os.path.join(base_dir,\n",
    "                             r\"./MerrimackMassCoast.cur\"))\n",
    "    tide_file = get_datafile(os.path.join(base_dir,\n",
    "                             r\"./MerrimackMassCoastOSSM.txt\"))\n",
    "    c_mover = CatsMover(curr_file, tide=Tide(tide_file))\n",
    "\n",
    "    # but do need to scale (based on river stage)\n",
    "\n",
    "    c_mover.scale = True\n",
    "    c_mover.scale_refpoint = (-70.65, 42.58333)\n",
    "    c_mover.scale_value = 1.\n",
    "    model.movers += c_mover\n",
    "    model.environment += c_mover.tide\n",
    "\n",
    "    print 'adding a cats mover:'\n",
    "\n",
    "    curr_file = get_datafile(os.path.join(base_dir, r\"MassBaySewage.cur\"))\n",
    "    c_mover = CatsMover(curr_file)\n",
    "\n",
    "    # but do need to scale (based on river stage)\n",
    "\n",
    "    c_mover.scale = True\n",
    "    c_mover.scale_refpoint = (-70.78333, 42.39333)\n",
    "\n",
    "    # the scale factor is 0 if user inputs no sewage outfall effects\n",
    "    c_mover.scale_value = .04\n",
    "\n",
    "    model.movers += c_mover\n",
    "\n",
    "    # pat1Angle 315;\n",
    "    # pat1Speed 19.44; pat1SpeedUnits knots;\n",
    "    # pat1ScaleToValue 0.138855\n",
    "    #\n",
    "    # pat2Angle 225;\n",
    "    # pat2Speed 19.44; pat2SpeedUnits knots;\n",
    "    # pat2ScaleToValue 0.05121\n",
    "    #\n",
    "    # scaleBy WindStress\n",
    "\n",
    "    print \"adding a component mover:\"\n",
    "    component_file1 = get_datafile(os.path.join(base_dir, r\"./WAC10msNW.cur\"))\n",
    "    component_file2 = get_datafile(os.path.join(base_dir, r\"./WAC10msSW.cur\"))\n",
    "    comp_mover = ComponentMover(component_file1, component_file2, w_mover.wind)\n",
    "\n",
    "    # todo: callback did not work correctly below - fix!\n",
    "    # comp_mover = ComponentMover(component_file1,\n",
    "    #                             component_file2,\n",
    "    #                             Wind(timeseries=series, units='m/s'))\n",
    "\n",
    "    comp_mover.scale_refpoint = (-70.855, 42.275)\n",
    "    comp_mover.pat1_angle = 315\n",
    "    comp_mover.pat1_speed = 19.44\n",
    "    comp_mover.pat1_speed_units = 1\n",
    "    comp_mover.pat1ScaleToValue = .138855\n",
    "    comp_mover.pat2_angle = 225\n",
    "    comp_mover.pat2_speed = 19.44\n",
    "    comp_mover.pat2_speed_units = 1\n",
    "    comp_mover.pat2ScaleToValue = .05121\n",
    "\n",
    "    model.movers += comp_mover\n",
    "\n",
    "    print 'adding a spill'\n",
    "\n",
    "    end_time = start_time + timedelta(hours=12)\n",
    "    spill = point_line_release_spill(num_elements=1000,\n",
    "                                     start_position=(-70.911432,\n",
    "                                                     42.369142, 0.0),\n",
    "                                     release_time=start_time,\n",
    "                                     end_release_time=end_time)\n",
    "\n",
    "    model.spills += spill\n",
    "\n",
    "    return model\n",
    "\n",
    "\n",
    "if __name__ == \"__main__\":\n",
    "    scripting.make_images_dir()\n",
    "    model = make_model()\n",
    "    model.full_run()"
   ]
  },
  {
   "cell_type": "code",
   "execution_count": 5,
   "metadata": {
    "collapsed": true
   },
   "outputs": [],
   "source": [
    "import netCDF4"
   ]
  },
  {
   "cell_type": "code",
   "execution_count": 6,
   "metadata": {
    "collapsed": true
   },
   "outputs": [],
   "source": [
    "nc = netCDF4.Dataset('script_boston.nc')\n",
    "ncv = nc.variables"
   ]
  },
  {
   "cell_type": "code",
   "execution_count": 7,
   "metadata": {
    "collapsed": false
   },
   "outputs": [
    {
     "name": "stdout",
     "output_type": "stream",
     "text": [
      "<type 'netCDF4._netCDF4.Dataset'>\n",
      "root group (NETCDF4 data model, file format HDF5):\n",
      "    comment: Particle output from the NOAA PyGnome model\n",
      "    feature_type: particle_trajectory\n",
      "    conventions: CF-1.6\n",
      "    source: PyGnome version 0.1.1\n",
      "    references: TBD\n",
      "    institution: NOAA Emergency Response Division\n",
      "    creation_date: 2016-01-13T11:46:16\n",
      "    dimensions(sizes): time(97), data(73501), two(2), three(3)\n",
      "    variables(dimensions): float64 \u001b[4mtime\u001b[0m(time), int32 \u001b[4mparticle_count\u001b[0m(time), float64 \u001b[4mwindage_range\u001b[0m(data,two), float64 \u001b[4mnext_positions\u001b[0m(data,three), uint16 \u001b[4mspill_num\u001b[0m(data), float64 \u001b[4mwindages\u001b[0m(data), float64 \u001b[4mlast_water_positions\u001b[0m(data,three), float64 \u001b[4mlongitude\u001b[0m(data), int32 \u001b[4mage\u001b[0m(data), float64 \u001b[4mdepth\u001b[0m(data), float64 \u001b[4mmass\u001b[0m(data), int32 \u001b[4mwindage_persist\u001b[0m(data), float64 \u001b[4mlatitude\u001b[0m(data), int16 \u001b[4mstatus_codes\u001b[0m(data), uint32 \u001b[4mid\u001b[0m(data)\n",
      "    groups: mass_balance\n",
      "\n"
     ]
    }
   ],
   "source": [
    "print nc"
   ]
  },
  {
   "cell_type": "code",
   "execution_count": 13,
   "metadata": {
    "collapsed": true
   },
   "outputs": [],
   "source": [
    "# which float?\n",
    "id = 0\n",
    "\n",
    "ind = np.where(nc['id'][:]==id)\n",
    "lon = nc['longitude'][ind]\n",
    "lat = nc['latitude'][ind]"
   ]
  },
  {
   "cell_type": "code",
   "execution_count": 20,
   "metadata": {
    "collapsed": false
   },
   "outputs": [
    {
     "data": {
      "text/plain": [
       "'0.2.0.dev'"
      ]
     },
     "execution_count": 20,
     "metadata": {},
     "output_type": "execute_result"
    }
   ],
   "source": [
    "folium.__version__"
   ]
  },
  {
   "cell_type": "code",
   "execution_count": 33,
   "metadata": {
    "collapsed": false
   },
   "outputs": [],
   "source": [
    "import matplotlib.pyplot as plt"
   ]
  },
  {
   "cell_type": "code",
   "execution_count": 34,
   "metadata": {
    "collapsed": false
   },
   "outputs": [
    {
     "data": {
      "text/plain": [
       "[<matplotlib.lines.Line2D at 0x1f623b38>]"
      ]
     },
     "execution_count": 34,
     "metadata": {},
     "output_type": "execute_result"
    },
    {
     "data": {
      "image/png": "[encoded data removed]",
      "text/plain": [
       "<matplotlib.figure.Figure at 0x1ece0a90>"
      ]
     },
     "metadata": {},
     "output_type": "display_data"
    }
   ],
   "source": [
    "plt.plot(lon,lat)"
   ]
  },
  {
   "cell_type": "code",
   "execution_count": null,
   "metadata": {
    "collapsed": true
   },
   "outputs": [],
   "source": [
    "from IPython.display import HTML\n",
    "import folium\n",
    "def inline_map(map):\n",
    "    \"\"\"\n",
    "    Embeds the HTML source of the map directly into the IPython notebook.\n",
    "    \n",
    "    This method will not work if the map depends on any files (json data). Also this uses\n",
    "    the HTML5 srcdoc attribute, which may not be supported in all browsers.\n",
    "    \"\"\"\n",
    "    map._build_map()\n",
    "    return HTML('<iframe srcdoc=\"{srcdoc}\" style=\"width: 100%; height: 510px; border: none\"></iframe>'.format(srcdoc=map.HTML.replace('\"', '&quot;')))"
   ]
  },
  {
   "cell_type": "code",
   "execution_count": 28,
   "metadata": {
    "collapsed": false
   },
   "outputs": [
    {
     "data": {
      "text/html": [
       "\n",
       "            <div style=\"width:100%;\">\n",
       "            <div style=\"position:relative;width:100%;height:0;padding-bottom:60%;\">\n",
       "            <iframe src=\"data:text/html;base64,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\" style=\"position:absolute;width:100%;height:100%;left:0;top:0;\">\n",
       "            </iframe>\n",
       "            </div></div>"
      ],
      "text/plain": [
       "<folium.folium.Map at 0x1dbeb748>"
      ]
     },
     "execution_count": 28,
     "metadata": {},
     "output_type": "execute_result"
    }
   ],
   "source": [
    "mapa = folium.Map(location=[lat[0],lon[0]], zoom_start=12)\n",
    "\n",
    "n0 = folium.PolyLine(locations=[zip(lat,lon)],color='black',opacity=1.0,weight=4)\n",
    "mapa.add_children(n0)\n",
    "\n",
    "mapa"
   ]
  },
  {
   "cell_type": "code",
   "execution_count": null,
   "metadata": {
    "collapsed": true
   },
   "outputs": [],
   "source": [
    "import mplleaflet \n",
    "mplleaflet.display(fig=ax.figure)"
   ]
  }
 ],
 "metadata": {
  "kernelspec": {
   "display_name": "Python 2",
   "language": "python",
   "name": "python2"
  },
  "language_info": {
   "codemirror_mode": {
    "name": "ipython",
    "version": 2
   },
   "file_extension": ".py",
   "mimetype": "text/x-python",
   "name": "python",
   "nbconvert_exporter": "python",
   "pygments_lexer": "ipython2",
   "version": "2.7.11"
  }
 },
 "nbformat": 4,
 "nbformat_minor": 0
}
